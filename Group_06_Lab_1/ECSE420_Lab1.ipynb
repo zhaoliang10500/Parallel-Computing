{
  "nbformat": 4,
  "nbformat_minor": 0,
  "metadata": {
    "colab": {
      "name": "ECSE420_Lab1.ipynb",
      "provenance": [],
      "collapsed_sections": [
        "wWxzCGed2pKh",
        "vqN2M9VQ9OSc",
        "C2B7odF2Akrp",
        "2dkYx5MXNukj"
      ],
      "toc_visible": true
    },
    "kernelspec": {
      "name": "python3",
      "display_name": "Python 3"
    },
    "accelerator": "GPU"
  },
  "cells": [
    {
      "cell_type": "markdown",
      "metadata": {
        "id": "g1OyOJim-2az"
      },
      "source": [
        "**Lab1 Group 06**</br>\n",
        "Liang Zhao 260781081</br>\n",
        "Hongshuo Zhou 260792817"
      ]
    },
    {
      "cell_type": "markdown",
      "metadata": {
        "id": "WRjVVzb2rrc4"
      },
      "source": [
        "**README**\n",
        "* The prelude contains the compareResult.c\n",
        "* There are three parts in this jupyter notebook with\n",
        "  - 1. Sequential code\n",
        "  - 2. Parallela1_explicit code\n",
        "  - 3. Parallela1_unified code\n",
        "* The running time is displayed at the end of each part\n",
        "* At the end of each part, there is a bash script containing codes to create executable and check outputs by compareResult.c \n",
        "\n",
        "\n"
      ]
    },
    {
      "cell_type": "markdown",
      "metadata": {
        "id": "wWxzCGed2pKh"
      },
      "source": [
        "#Prelude\n",
        "compareResult.c is given by the lab and is used to compare results with the given sol_XXX.txt"
      ]
    },
    {
      "cell_type": "code",
      "metadata": {
        "id": "FHLvFpiL2j_p",
        "outputId": "2367221f-524d-4998-9008-d63ee6dd1d0d",
        "colab": {
          "base_uri": "https://localhost:8080/",
          "height": 54
        }
      },
      "source": [
        "%%writefile compareResult.c\n",
        "#include <stdio.h>\n",
        "#include <stdlib.h>\n",
        "\n",
        "void compareFiles(char *file_name1, char *file_name2) \n",
        "{ \n",
        "//get from https://www.tutorialspoint.com/c-program-to-compare-two-files-and-report-mismatches\n",
        "FILE* fp1 = fopen(file_name1, \"r\");\n",
        "FILE* fp2 = fopen(file_name2, \"r\");\n",
        "    // fetching character of two file \n",
        "    // in two variable ch1 and ch2 \n",
        "    char ch1 = getc(fp1); \n",
        "    char ch2 = getc(fp2); \n",
        "  \n",
        "    // error keeps track of number of errors \n",
        "    // pos keeps track of position of errors \n",
        "    // line keeps track of error line \n",
        "    int error = 0, pos = 0, line = 1; \n",
        "  \n",
        "    // iterate loop till end of file \n",
        "    while (ch1 != EOF && ch2 != EOF) \n",
        "    { \n",
        "        pos++; \n",
        "  \n",
        "        // if both variable encounters new \n",
        "        // line then line variable is incremented \n",
        "        // and pos variable is set to 0 \n",
        "        if (ch1 == '\\n' && ch2 == '\\n') \n",
        "        { \n",
        "            line++; \n",
        "            pos = 0; \n",
        "        } \n",
        "  \n",
        "        // if fetched data is not equal then \n",
        "        // error is incremented \n",
        "        if (ch1 != ch2) \n",
        "        { \n",
        "            error++; \n",
        "            printf(\"Line Number : %d \\tError\"\n",
        "               \" Position : %d \\n\", line, pos); \n",
        "        } \n",
        "  \n",
        "        // fetching character until end of file \n",
        "        ch1 = getc(fp1); \n",
        "        ch2 = getc(fp2); \n",
        "    } \n",
        "  \n",
        "    printf(\"Total Errors : %d\\t\", error); \n",
        "} \n",
        "\n",
        "int main(int argc, char *argv[]){\n",
        "\n",
        "    if( argc < 3) {\n",
        "      printf(\"Require two files\\n\");\n",
        "      exit(1);\n",
        "      \n",
        "   }\n",
        "compareFiles(argv[1], argv[2]);\n",
        "}\n"
      ],
      "execution_count": 2,
      "outputs": [
        {
          "output_type": "stream",
          "text": [
            "Writing compareResult.c\n"
          ],
          "name": "stdout"
        }
      ]
    },
    {
      "cell_type": "markdown",
      "metadata": {
        "id": "vqN2M9VQ9OSc"
      },
      "source": [
        "#1. Sequential"
      ]
    },
    {
      "cell_type": "markdown",
      "metadata": {
        "id": "dZLjcy1OrtlA"
      },
      "source": [
        "##1.1 sequential.cu"
      ]
    },
    {
      "cell_type": "code",
      "metadata": {
        "id": "WO48ktiorwPo",
        "outputId": "4ee6ab62-11f5-418b-c148-55c1f897b883",
        "colab": {
          "base_uri": "https://localhost:8080/",
          "height": 34
        }
      },
      "source": [
        "%%writefile sequential.cu\n",
        "\n",
        "#include <string>\n",
        "#include <stdio.h>\n",
        "#include <stdlib.h>\n",
        "#include <time.h>\n",
        "\n",
        "#define AND 0\n",
        "#define OR 1\n",
        "#define NAND 2\n",
        "#define NOR 3\n",
        "#define XOR 4\n",
        "#define NXOR 5\n",
        "\n",
        "//Evaluates logical expression.\n",
        "char evaluate_logic_gate(int ops[]) {\n",
        "    int result=0;\n",
        "    switch (ops[2]) {\n",
        "    case NOR:\n",
        "        result = !(ops[0] | ops[1]);\n",
        "        break;\n",
        "    case XOR:\n",
        "        result = ops[0] ^ ops[1];\n",
        "        break;\n",
        "    case NAND:\n",
        "        result = !(ops[0] & ops[1]);\n",
        "        break;\n",
        "    case AND:\n",
        "        result = ops[0] & ops[1];\n",
        "        break;\n",
        "    case OR:\n",
        "        result = ops[0] | ops[1];\n",
        "        break;\n",
        "    case NXOR:\n",
        "        result = !(ops[0] ^ ops[1]);\n",
        "        break;\n",
        "    }\n",
        "    char output = result + '0';\n",
        "    return output;\n",
        "}\n",
        "\n",
        "//Sequential computation of logical expressions.\n",
        "//Takes input file path, file length and output file name as inputs.\n",
        "int main(int argc, char* argv[]) {\n",
        "    if (argc != 4) {\n",
        "        printf(\"Invalid number of inputs, inputs: <input_file_path> <input_file_length> <output_file_length>\\n\");\n",
        "        return 1;\n",
        "    }\n",
        "    char line[10];\n",
        "\n",
        "    //store inputs in this variables\n",
        "    char* input_file_name = argv[1];\n",
        "    int input_length = atoi(argv[2]);\n",
        "    char* output_file_name = argv[3];\n",
        "\n",
        "    FILE* input_file = fopen(input_file_name, \"r\");\n",
        "    FILE* output_file = fopen(output_file_name, \"w\");\n",
        "    if (input_file == NULL) {\n",
        "        fprintf(stderr, \"Error in reading input file\\n\");\n",
        "        return 1;\n",
        "    }\n",
        "\n",
        "    //evaluate operands here and start the clock \n",
        "    clock_t start = clock();\n",
        "\n",
        "    int operands[3] = { 0 };\n",
        "    char result = 0;\n",
        "    while (fgets(line, 10, input_file)) {\n",
        "        operands[0] = atoi(line);\n",
        "        operands[1] = atoi(line + 2);\n",
        "        operands[2] = atoi(line + 4);\n",
        "        result = evaluate_logic_gate(operands);\n",
        "        fprintf(output_file, \"%c\\n\", result);\n",
        "    }\n",
        "\n",
        "    clock_t end = clock();\n",
        "    double time_taken = ((double) end - start) / CLOCKS_PER_SEC;\n",
        "    printf(\"Simulate logic gate sequentially for %s takes %f seconds to execute \\n\", input_file_name, time_taken);\n",
        "\n",
        "    fclose(output_file);\n",
        "    fclose(input_file);\n",
        "\n",
        "    return 0;\n",
        "\n",
        "}"
      ],
      "execution_count": 4,
      "outputs": [
        {
          "output_type": "stream",
          "text": [
            "Overwriting sequential.cu\n"
          ],
          "name": "stdout"
        }
      ]
    },
    {
      "cell_type": "markdown",
      "metadata": {
        "id": "YV8BuEX18rfw"
      },
      "source": [
        "##1.2 Bash file\n",
        "Bash file to run sequrntial.cu\n",
        "</br>Compare results with solution files by using compareResult.c"
      ]
    },
    {
      "cell_type": "code",
      "metadata": {
        "id": "8Fm3FYg53LCQ",
        "outputId": "2a7f25f4-7804-4e6e-aba2-43f1a3f075a7",
        "colab": {
          "base_uri": "https://localhost:8080/",
          "height": 51
        }
      },
      "source": [
        "%%script bash\n",
        "\n",
        "#run sequential.cu\n",
        "nvcc -o sequential sequential.cu\n",
        "./sequential input_1000000.txt 10000 output_1000000.txt\n",
        "\n",
        "#compare results\n",
        "gcc -o compareResult compareResult.c\n",
        "./compareResult sol_1000000.txt output_1000000.txt"
      ],
      "execution_count": 22,
      "outputs": [
        {
          "output_type": "stream",
          "text": [
            "Simulate logic gate sequentially for input_1000000.txt takes 0.138774 seconds to execute \n",
            "Total Errors : 0\t"
          ],
          "name": "stdout"
        }
      ]
    },
    {
      "cell_type": "markdown",
      "metadata": {
        "id": "C2B7odF2Akrp"
      },
      "source": [
        "\n",
        "\n",
        "```\n",
        "# 此内容为代码格式\n",
        "```\n",
        "\n",
        "#2. Parallel1_explicit"
      ]
    },
    {
      "cell_type": "markdown",
      "metadata": {
        "id": "ztmzd1YVArLL"
      },
      "source": [
        "##2.1 parallel_explicit.cu"
      ]
    },
    {
      "cell_type": "code",
      "metadata": {
        "id": "KNYU8oeCajmw",
        "outputId": "ce699b2a-a32b-4c5b-bc86-3faeebc01ae8",
        "colab": {
          "base_uri": "https://localhost:8080/",
          "height": 34
        }
      },
      "source": [
        "%%writefile parallel_explicit.cu\n",
        "\n",
        "#include <stdio.h>\n",
        "#include <stdlib.h>\n",
        "#include <cuda_runtime.h>\n",
        "#include <chrono>\n",
        "#include <device_launch_parameters.h>\n",
        "#include <string.h>\n",
        "\n",
        "#define AND 0\n",
        "#define OR 1\n",
        "#define NAND 2\n",
        "#define NOR 3\n",
        "#define XOR 4\n",
        "#define NXOR 5\n",
        "#define THREADS_PER_BLOCK 1024\n",
        "\n",
        "__global__ void evaluate_logic_gate(char* input_buffer, int input_length, char* output_buffer, int input_line_length, int output_line_length) {\n",
        "  int index = threadIdx.x + blockIdx.x * blockDim.x;\n",
        "  if (index < input_length) {\n",
        "        char* logic_line = input_buffer + input_line_length * (index);\n",
        "        int op1 = logic_line[0] - '0';\n",
        "        int op2 = logic_line[2] - '0';\n",
        "        int gate_type = logic_line[4] - '0';\n",
        "        char result;\n",
        "\n",
        "        switch (gate_type) {\n",
        "        case NOR:\n",
        "            result = !(op1 | op2);\n",
        "            break;\n",
        "        case XOR:\n",
        "            result = op1 ^ op2;\n",
        "            break;\n",
        "        case NAND:\n",
        "            result = !(op1 & op2);\n",
        "            break;\n",
        "        case AND:\n",
        "            result = op1 & op2;\n",
        "            break;\n",
        "        case OR:\n",
        "            result = op1 | op2;\n",
        "            break;\n",
        "        case NXOR:\n",
        "            result = !(op1 ^ op2);\n",
        "            break;\n",
        "        }\n",
        "\n",
        "        char* output_location = output_buffer + index * output_line_length;\n",
        "        char output_value = result + '0';\n",
        "\n",
        "        output_location[0] = output_value;\n",
        "        output_location[1] = '\\0';\n",
        "        output_location[2] = '\\n';\n",
        "    }\n",
        "}\n",
        "\n",
        "//Sequential computation of logical expressions: explicit memory\n",
        "//Takes input file path, file length and output file name as inputs.\n",
        "int main(int argc, char* argv[]) {\n",
        "    if (argc != 4) {\n",
        "        printf(\"Invalid number of inputs, inputs: <input_file_path> <input_file_length> <output_file_length>\\n\");\n",
        "        return 1;\n",
        "    }\n",
        "\n",
        "    int input_line_length = 7;\n",
        "    int output_line_length = 3;\n",
        "\n",
        "    char* input_fileName = argv[1];\n",
        "    int input_length = atoi(argv[2]);\n",
        "    char* output_fileName = argv[3];\n",
        "\n",
        "    FILE* inputFile = fopen(input_fileName, \"r\");\n",
        "    if (inputFile == NULL) {\n",
        "        fprintf(stderr, \"Error in reading input file\\n\");\n",
        "        return 1;\n",
        "    }\n",
        "\n",
        "    //allocate host memery and initiate host data\n",
        "    int inputSize = input_length * input_line_length * sizeof(unsigned char);\n",
        "    int outputSize = input_length * output_line_length * sizeof(unsigned char);\n",
        "    char* input_buffer = (char*)malloc(inputSize);\n",
        "\n",
        "    char buf[7];\n",
        "    int addressLocation = 0;\n",
        "    while (fgets(buf, sizeof buf, inputFile) != NULL) {\n",
        "        strcpy(input_buffer + addressLocation, buf);\n",
        "        addressLocation += input_line_length;\n",
        "    }\n",
        "    fclose(inputFile);\n",
        "\n",
        "    //allocate device memory\n",
        "    char* cudaBuffer;\n",
        "    char* output_buffer;\n",
        "    char* returnBuffer;\n",
        "    returnBuffer = (char*)malloc(outputSize * sizeof(char));\n",
        "    cudaMalloc(&cudaBuffer, inputSize);\n",
        "    cudaMalloc(&output_buffer, outputSize);\n",
        "\n",
        "clock_t start = clock();\n",
        "    //transfer input data from host to device memory\n",
        "    cudaMemcpy(cudaBuffer, input_buffer, inputSize, cudaMemcpyHostToDevice);\n",
        "clock_t end = clock();\n",
        "   // clock_t start = clock();\n",
        "\n",
        "    //execute in kernel\n",
        "    evaluate_logic_gate << < (input_length + THREADS_PER_BLOCK - 1) / THREADS_PER_BLOCK, THREADS_PER_BLOCK >> > (cudaBuffer, input_length, output_buffer, input_line_length, output_line_length);\n",
        "\n",
        "   // clock_t end = clock();\n",
        "    double time_taken = ((double) end - start) / CLOCKS_PER_SEC;\n",
        "\n",
        "    cudaDeviceSynchronize();\n",
        "\n",
        "    //transfer output from device memory to host memory\n",
        "    cudaMemcpy(returnBuffer, output_buffer, outputSize, cudaMemcpyDeviceToHost);\n",
        "\n",
        "    FILE* outputFile = fopen(output_fileName, \"w\");\n",
        "    int counter = 0;\n",
        "    addressLocation = 0;\n",
        "\n",
        "    while (counter < input_length) {\n",
        "        if (counter == input_length - 1) {\n",
        "            fprintf(outputFile, \"%s\", returnBuffer + addressLocation);\n",
        "        }\n",
        "        else {\n",
        "            fprintf(outputFile, \"%s\\n\", returnBuffer + addressLocation);\n",
        "        }\n",
        "        addressLocation += output_line_length;\n",
        "        counter++;\n",
        "    }\n",
        "\n",
        "    fclose(outputFile);\n",
        "\n",
        "    free(input_buffer);\n",
        "    free(returnBuffer);\n",
        "    cudaFree(cudaBuffer);\n",
        "    cudaFree(output_buffer);\n",
        "\n",
        "    printf(\"Simulate logic gate parallel_explicitly for %s takes %f seconds to execute kernel function \\n\", input_fileName, time_taken);\n",
        "\n",
        "    return 0;\n",
        "}"
      ],
      "execution_count": 25,
      "outputs": [
        {
          "output_type": "stream",
          "text": [
            "Overwriting parallel_explicit.cu\n"
          ],
          "name": "stdout"
        }
      ]
    },
    {
      "cell_type": "markdown",
      "metadata": {
        "id": "Sb4TQESDNxhX"
      },
      "source": [
        "##2.2 Bash file\n",
        "Bash file to run parallel_explicit.cu\n",
        "</br>Compare results with solution files by using compareResult.c"
      ]
    },
    {
      "cell_type": "code",
      "metadata": {
        "id": "gueHVdegHJaB",
        "outputId": "0fcee36c-7a4c-4532-959c-e54d3fc801d9",
        "colab": {
          "base_uri": "https://localhost:8080/",
          "height": 51
        }
      },
      "source": [
        "%%script bash\n",
        "\n",
        "#run parallela1_explicit.cu\n",
        "nvcc -o parallela1_explicit parallel_explicit.cu\n",
        "./parallela1_explicit input_10000.txt 10000 output_10000.txt\n",
        "\n",
        "#compare results\n",
        "gcc -o compareResult compareResult.c\n",
        "./compareResult sol_10000.txt output_10000.txt"
      ],
      "execution_count": 30,
      "outputs": [
        {
          "output_type": "stream",
          "text": [
            "Simulate logic gate parallel_explicitly for input_10000.txt takes 0.000033 seconds to execute kernel function \n",
            "Total Errors : 0\t"
          ],
          "name": "stdout"
        }
      ]
    },
    {
      "cell_type": "markdown",
      "metadata": {
        "id": "2dkYx5MXNukj"
      },
      "source": [
        "#3. Parallel1_unified"
      ]
    },
    {
      "cell_type": "code",
      "metadata": {
        "id": "Ch35m50ulSB_"
      },
      "source": [
        ""
      ],
      "execution_count": null,
      "outputs": []
    },
    {
      "cell_type": "markdown",
      "metadata": {
        "id": "MXTXC8VhObS7"
      },
      "source": [
        "##3.1 parallel_unified.cu"
      ]
    },
    {
      "cell_type": "code",
      "metadata": {
        "id": "UTgKeCn9TsJD",
        "outputId": "5a5df759-cd08-42b9-d200-21252fe2c50e",
        "colab": {
          "base_uri": "https://localhost:8080/",
          "height": 54
        }
      },
      "source": [
        "%%writefile parallel_unified.cu\n",
        "#include <stdio.h>\n",
        "#include <stdlib.h>\n",
        "#include <cuda_runtime.h>\n",
        "#include <chrono>\n",
        "#include <device_launch_parameters.h>\n",
        "#include <string.h>\n",
        "\n",
        "#define AND 0\n",
        "#define OR 1\n",
        "#define NAND 2\n",
        "#define NOR 3\n",
        "#define XOR 4\n",
        "#define NXOR 5\n",
        "#define THREADS_PER_BLOCK 1024\n",
        "\n",
        "\n",
        "__global__ void evaluate_logic_gate(char* input_buffer, int input_length, char* output_buffer, int input_line_length, int output_line_length) {\n",
        "    int index = threadIdx.x + blockIdx.x * blockDim.x;\n",
        "\n",
        "    if (index < input_length) {\n",
        "        char* logic_line = input_buffer + input_line_length * (index);\n",
        "        int op1 = logic_line[0] - '0';\n",
        "        int op2 = logic_line[2] - '0';\n",
        "        int gateType = logic_line[4] - '0';\n",
        "        char result;\n",
        "\n",
        "        switch (gateType) {\n",
        "        case NOR:\n",
        "            result = !(op1 | op2);\n",
        "            break;\n",
        "        case XOR:\n",
        "            result = op1 ^ op2;\n",
        "            break;\n",
        "        case NAND:\n",
        "            result = !(op1 & op2);\n",
        "            break;\n",
        "        case AND:\n",
        "            result = op1 & op2;\n",
        "            break;\n",
        "        case OR:\n",
        "            result = op1 | op2;\n",
        "            break;\n",
        "        case NXOR:\n",
        "            result = !(op1 ^ op2);\n",
        "            break;\n",
        "        }\n",
        "\n",
        "        char* output_location = output_buffer + index * output_line_length;\n",
        "        char output_value = result + '0';\n",
        "\n",
        "        output_location[0] = output_value;\n",
        "        output_location[1] = '\\0';\n",
        "        output_location[2] = '\\n';\n",
        "    }\n",
        "}\n",
        "\n",
        "//Sequential computation of logical expressions: Unified Memory\n",
        "//Takes input file path, file length and output file name as inputs.\n",
        "int main(int argc, char* argv[]) {\n",
        "\n",
        "    if (argc != 4) {\n",
        "        printf(\"Invalid number of inputs, inputs: <input_file_path> <input_file_length> <output_file_length>\\n\");\n",
        "        return 1;\n",
        "    }\n",
        "\n",
        "    int input_line_length = 7;\n",
        "    int output_line_length = 3;\n",
        "    char* input_file_name = argv[1];\n",
        "    int input_length = atoi(argv[2]);\n",
        "    char* output_file_name = argv[3];\n",
        "\n",
        "    FILE* inputFile = fopen(input_file_name, \"r\");\n",
        "    if (inputFile == NULL) {\n",
        "        fprintf(stderr, \"Error in reading input file\\n\");\n",
        "        return 1;\n",
        "    }\n",
        "\n",
        "    //allocate host memery and initiate host data\n",
        "    int inputSize = input_length * input_line_length * sizeof(unsigned char);\n",
        "    int outputSize = input_length * output_line_length * sizeof(unsigned char);\n",
        "    char* input_buffer = (char*)malloc(inputSize);\n",
        "\n",
        "    char buf[7];\n",
        "    int addressLocation = 0;\n",
        "    while (fgets(buf, sizeof buf, inputFile) != NULL) {\n",
        "        strcpy(input_buffer + addressLocation, buf);\n",
        "        addressLocation += input_line_length;\n",
        "    }\n",
        "\n",
        "    fclose(inputFile);\n",
        "\n",
        "    char* cudaBuffer;\n",
        "    char* output_buffer;\n",
        "\n",
        "    // Allocate Unified Memory -- accessible from CPU or GPU\n",
        "    cudaMallocManaged(&cudaBuffer, inputSize);\n",
        "    cudaMallocManaged(&output_buffer, outputSize);\n",
        "    for (int i = 0; i < inputSize; i++) {\n",
        "        cudaBuffer[i] = input_buffer[i];\n",
        "    }\n",
        "\n",
        "    clock_t start = clock();\n",
        "\n",
        "    //execute in kernel\n",
        "    evaluate_logic_gate<<< (input_length + THREADS_PER_BLOCK - 1) / THREADS_PER_BLOCK, THREADS_PER_BLOCK >> > (cudaBuffer, input_length, output_buffer, input_line_length, output_line_length);\n",
        "    cudaDeviceSynchronize();\n",
        "\n",
        "    clock_t end = clock();\n",
        "    double timeTaken = ((double) end - start) / CLOCKS_PER_SEC;\n",
        "   \n",
        "    FILE* outputFile = fopen(output_file_name, \"w\");\n",
        "    int counter = 0;\n",
        "    addressLocation = 0;\n",
        "    while (counter < input_length) {\n",
        "        if (counter == input_length - 1) {\n",
        "            fprintf(outputFile, \"%s\", output_buffer + addressLocation);\n",
        "        }\n",
        "        else {\n",
        "            fprintf(outputFile, \"%s\\n\", output_buffer + addressLocation);\n",
        "        }\n",
        "        addressLocation += output_line_length;\n",
        "        counter++;\n",
        "    }\n",
        "    fclose(outputFile);\n",
        "    // Free memory\n",
        "    free(input_buffer);\n",
        "    cudaFree(cudaBuffer);\n",
        "    cudaFree(output_buffer);\n",
        "\n",
        "    printf(\"Simulate logic gate parallel_unified for %s takes %f seconds to execute kernel function \\n\", input_file_name, timeTaken);\n",
        "    return 0;\n",
        "}"
      ],
      "execution_count": 1,
      "outputs": [
        {
          "output_type": "stream",
          "text": [
            "Writing parallel_unified.cu\n"
          ],
          "name": "stdout"
        }
      ]
    },
    {
      "cell_type": "markdown",
      "metadata": {
        "id": "HZ-d66lVUpS0"
      },
      "source": [
        "##3.2 Bash file\n",
        "Bash file to run parallel_unified.cu\n",
        "</br>Compare results with solution files by using compareResult.c"
      ]
    },
    {
      "cell_type": "code",
      "metadata": {
        "id": "icOpzBr1UppE",
        "outputId": "b1415d3e-d925-4bc0-9f66-f03ddfadee69",
        "colab": {
          "base_uri": "https://localhost:8080/",
          "height": 51
        }
      },
      "source": [
        "%%script bash\n",
        "\n",
        "#run parallela1_explicit.cu\n",
        "nvcc -o parallela1_unified parallel_unified.cu\n",
        "./parallela1_unified input_1000000.txt 1000000 output_1000000.txt\n",
        "\n",
        "#compare results\n",
        "gcc -o compareResult compareResult.c\n",
        "./compareResult sol_10000.txt output_10000.txt"
      ],
      "execution_count": 4,
      "outputs": [
        {
          "output_type": "stream",
          "text": [
            "Simulate logic gate parallel_unified for input_1000000.txt takes 0.002303 seconds to execute kernel function \n"
          ],
          "name": "stdout"
        },
        {
          "output_type": "stream",
          "text": [
            "bash: line 8:   370 Segmentation fault      (core dumped) ./compareResult sol_10000.txt output_10000.txt\n"
          ],
          "name": "stderr"
        }
      ]
    }
  ]
}